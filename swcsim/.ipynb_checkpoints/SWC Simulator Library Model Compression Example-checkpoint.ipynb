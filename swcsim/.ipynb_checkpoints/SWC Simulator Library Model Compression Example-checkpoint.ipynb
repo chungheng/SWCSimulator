{
 "cells": [
  {
   "cell_type": "markdown",
   "metadata": {},
   "source": [
    "# SWC Simulator Library Workflow Example"
   ]
  },
  {
   "cell_type": "markdown",
   "metadata": {},
   "source": [
    "### Create a simple neuron and run it $M$ times to generate data; then save it."
   ]
  },
  {
   "cell_type": "code",
   "execution_count": null,
   "metadata": {
    "collapsed": false
   },
   "outputs": [],
   "source": [
    "from compact_dependencies import *\n",
    "from swcsim import *\n",
    "from model import *\n",
    "import matplotlib\n",
    "%matplotlib inline\n",
    "import matplotlib.pyplot as plt\n",
    "import numpy as np\n",
    "from StringIO import StringIO\n",
    "import re\n",
    "\n",
    "# Create a simple neuron in SWC format\n",
    "# 3 - 2\n",
    "#       > 1 - 0\n",
    "# 5 - 4\n",
    "swcString = \\\n",
    "\"id type x y z radius parent_id\\n\" \\\n",
    "\"0  2    3 1 0 1      -1\\n\" \\\n",
    "\"1  1    2 1 0 1       0\\n\" \\\n",
    "\"2  1    1 2 0 1       1\\n\" \\\n",
    "\"3  1    0 2 0 1       2\\n\" \\\n",
    "\"4  1    1 0 0 1       1\\n\" \\\n",
    "\"5  1    0 0 0 1       4\\n\"\n",
    "dataString = StringIO(re.sub(' +',' ',swcString))\n",
    "\n",
    "neuron = SWCNeuron(dataString, swcKwargs={'delimiter':' '})\n",
    "\n",
    "dt = 1e-5\n",
    "dur = 0.5\n",
    "t = np.arange(0,dur,dt)\n",
    "stimulus = np.zeros_like(t)\n",
    "M = 100\n",
    "\n",
    "V = np.zeros((M, neuron.graph.number_of_nodes(), len(t)))\n",
    "I = np.zeros((M, neuron.graph.number_of_edges(), len(t)))\n",
    "for m in range(M):\n",
    "    if m % round(M/10) == 0:\n",
    "        print(str(float(m)/M) + \"%\")\n",
    "    stimulus = 2000.0 * np.random.poisson(lam=0.25, size=t.shape)\n",
    "\n",
    "    # Create a simulator\n",
    "    sim = neuron.create_simulator(dt, [3,5], stimulus, steps=len(stimulus))\n",
    "\n",
    "    # Run the simulator\n",
    "\n",
    "    for i, _ in enumerate(sim):\n",
    "        for j,n in enumerate(neuron.graph.nodes_iter()):\n",
    "            V[m,j,i] = neuron.graph.node[n]['states'].V\n",
    "        for j, (u,v,d) in enumerate(neuron.graph.edges_iter(data=True)):\n",
    "            I[m,j,i] = d['I']\n",
    "            \n",
    "save_large_dataset('I',I)\n",
    "save_large_dataset('V',V)"
   ]
  },
  {
   "cell_type": "markdown",
   "metadata": {},
   "source": [
    "### Use a simple RNN model to try to recover the dynamics of the neuron."
   ]
  },
  {
   "cell_type": "code",
   "execution_count": null,
   "metadata": {
    "collapsed": false
   },
   "outputs": [],
   "source": [
    "from compact_dependencies import *\n",
    "from neuron_compressor import *\n",
    "batch_size = 40\n",
    "epochs = 50\n",
    "N = 10\n",
    "\n",
    "I = load_large_dataset('I')\n",
    "V = load_large_dataset('V')\n",
    "\n",
    "print('Beginning evaluation...')\n",
    "model = neuron_compressor(simplegru_model(N, I, V), batch_size = batch_size, epochs = epochs)"
   ]
  }
 ],
 "metadata": {
  "anaconda-cloud": {},
  "kernelspec": {
   "display_name": "Python [conda root]",
   "language": "python",
   "name": "conda-root-py"
  },
  "language_info": {
   "codemirror_mode": {
    "name": "ipython",
    "version": 2
   },
   "file_extension": ".py",
   "mimetype": "text/x-python",
   "name": "python",
   "nbconvert_exporter": "python",
   "pygments_lexer": "ipython2",
   "version": "2.7.12"
  },
  "latex_envs": {
   "LaTeX_envs_menu_present": true,
   "autocomplete": true,
   "bibliofile": "biblio.bib",
   "cite_by": "apalike",
   "current_citInitial": 1,
   "eqLabelWithNumbers": true,
   "eqNumInitial": 1,
   "hotkeys": {
    "equation": "Ctrl-E",
    "itemize": "Ctrl-I"
   },
   "labels_anchors": false,
   "latex_user_defs": false,
   "report_style_numbering": false,
   "user_envs_cfg": false
  },
  "toc": {
   "nav_menu": {},
   "number_sections": false,
   "sideBar": true,
   "skip_h1_title": false,
   "toc_cell": false,
   "toc_position": {},
   "toc_section_display": "block",
   "toc_window_display": false
  }
 },
 "nbformat": 4,
 "nbformat_minor": 2
}
