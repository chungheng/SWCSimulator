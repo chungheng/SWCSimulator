{
 "cells": [
  {
   "cell_type": "markdown",
   "metadata": {},
   "source": [
    "# SWC Simulator Library Workflow Example"
   ]
  },
  {
   "cell_type": "markdown",
   "metadata": {},
   "source": [
    "### Create a simple neuron and run it $M$ times to generate data; then save it."
   ]
  },
  {
   "cell_type": "code",
   "execution_count": null,
   "metadata": {
    "collapsed": false
   },
   "outputs": [],
   "source": [
    "from compact_dependencies import *\n",
    "from swcsim import *\n",
    "from model import *\n",
    "import matplotlib\n",
    "%matplotlib inline\n",
    "import matplotlib.pyplot as plt\n",
    "import numpy as np\n",
    "from StringIO import StringIO\n",
    "import re\n",
    "\n",
    "# a simple neuron in SWC format\n",
    "# 3 - 2\n",
    "#       > 1 - 0\n",
    "# 5 - 4\n",
    "swcString = \\\n",
    "\"id type x y z radius parent_id\\n\" \\\n",
    "\"0  2    3 1 0 1      -1\\n\" \\\n",
    "\"1  1    2 1 0 1       0\\n\" \\\n",
    "\"2  1    1 2 0 1       1\\n\" \\\n",
    "\"3  1    0 2 0 1       2\\n\" \\\n",
    "\"4  1    1 0 0 1       1\\n\" \\\n",
    "\"5  1    0 0 0 1       4\\n\"\n",
    "dataString = StringIO(re.sub(' +',' ',swcString))\n",
    "\n",
    "neuron = SWCNeuron(dataString, swcKwargs={'delimiter':' '})\n",
    "\n",
    "dt = 1e-5\n",
    "dur = 0.5\n",
    "t = np.arange(0,dur,dt)\n",
    "stimulus = np.zeros_like(t)\n",
    "M = 100\n",
    "\n",
    "V = np.zeros((M, neuron.graph.number_of_nodes(), len(t)))\n",
    "I = np.zeros((M, neuron.graph.number_of_edges(), len(t)))\n",
    "for m in range(M):\n",
    "    if m % round(M/10) == 0:\n",
    "        print(str(float(m)/M) + \"%\")\n",
    "    stimulus = 2000.0 * np.random.poisson(lam=0.25, size=t.shape)\n",
    "\n",
    "    # Create a simulator\n",
    "    sim = neuron.create_simulator(dt, [3,5], stimulus, steps=len(stimulus))\n",
    "\n",
    "    # Run the simulator\n",
    "\n",
    "    for i, _ in enumerate(sim):\n",
    "        for j,n in enumerate(neuron.graph.nodes_iter()):\n",
    "            V[m,j,i] = neuron.graph.node[n]['states'].V\n",
    "        for j, (u,v,d) in enumerate(neuron.graph.edges_iter(data=True)):\n",
    "            I[m,j,i] = d['I']\n",
    "            \n",
    "save_large_dataset('I',I)\n",
    "save_large_dataset('V',V)"
   ]
  },
  {
   "cell_type": "markdown",
   "metadata": {},
   "source": [
    "### Use a simple RNN model to try to recover the dynamics of the neuron."
   ]
  },
  {
   "cell_type": "code",
   "execution_count": null,
   "metadata": {
    "collapsed": false
   },
   "outputs": [
    {
     "name": "stderr",
     "output_type": "stream",
     "text": [
      "Using Theano backend.\n",
      "Using cuDNN version 5105 on context None\n",
      "Mapped name None to device cuda: GeForce GTX 1080 (0000:01:00.0)\n"
     ]
    },
    {
     "name": "stdout",
     "output_type": "stream",
     "text": [
      "Beginning evaluation...\n",
      "_________________________________________________________________\n",
      "Layer (type)                 Output Shape              Param #   \n",
      "=================================================================\n",
      "lstm_1 (LSTM)                (None, 50000L, 6)         288       \n",
      "=================================================================\n",
      "Total params: 288\n",
      "Trainable params: 288\n",
      "Non-trainable params: 0\n",
      "_________________________________________________________________\n",
      "Train on 75 samples, validate on 25 samples\n",
      "Epoch 1/50\n",
      "75/75 [==============================] - 72s - loss: 0.0838 - val_loss: 0.0809\n",
      "Epoch 2/50\n",
      "75/75 [==============================] - 71s - loss: 0.0809 - val_loss: 0.0782\n",
      "Epoch 3/50\n",
      "64/75 [========================>.....] - ETA: 7s - loss: 0.0783 "
     ]
    }
   ],
   "source": [
    "from compact_dependencies import *\n",
    "from neuron_compressor import *\n",
    "batch_size = 32\n",
    "epochs = 200\n",
    "N = 6\n",
    "\n",
    "I = load_large_dataset('I')\n",
    "V = load_large_dataset('V')\n",
    "I = I / np.max(I)\n",
    "V = V / np.max(V)\n",
    "\n",
    "print('Beginning evaluation...')\n",
    "model = neuron_compressor(simplegru_model(N, I, V), batch_size = batch_size, epochs = epochs)"
   ]
  },
  {
   "cell_type": "code",
   "execution_count": null,
   "metadata": {
    "collapsed": true
   },
   "outputs": [],
   "source": []
  }
 ],
 "metadata": {
  "anaconda-cloud": {},
  "kernelspec": {
   "display_name": "Python [conda root]",
   "language": "python",
   "name": "conda-root-py"
  },
  "language_info": {
   "codemirror_mode": {
    "name": "ipython",
    "version": 2
   },
   "file_extension": ".py",
   "mimetype": "text/x-python",
   "name": "python",
   "nbconvert_exporter": "python",
   "pygments_lexer": "ipython2",
   "version": "2.7.12"
  },
  "latex_envs": {
   "LaTeX_envs_menu_present": true,
   "autocomplete": true,
   "bibliofile": "biblio.bib",
   "cite_by": "apalike",
   "current_citInitial": 1,
   "eqLabelWithNumbers": true,
   "eqNumInitial": 1,
   "hotkeys": {
    "equation": "Ctrl-E",
    "itemize": "Ctrl-I"
   },
   "labels_anchors": false,
   "latex_user_defs": false,
   "report_style_numbering": false,
   "user_envs_cfg": false
  },
  "toc": {
   "nav_menu": {},
   "number_sections": false,
   "sideBar": true,
   "skip_h1_title": false,
   "toc_cell": false,
   "toc_position": {},
   "toc_section_display": "block",
   "toc_window_display": false
  }
 },
 "nbformat": 4,
 "nbformat_minor": 2
}
